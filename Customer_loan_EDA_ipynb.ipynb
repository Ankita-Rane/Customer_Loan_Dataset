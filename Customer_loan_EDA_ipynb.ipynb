{
  "nbformat": 4,
  "nbformat_minor": 0,
  "metadata": {
    "colab": {
      "name": "Customer_loan_EDA.ipynb.ipynb",
      "provenance": [],
      "authorship_tag": "ABX9TyO3K5g9CPxbvcvBmUml8LWA",
      "include_colab_link": true
    },
    "kernelspec": {
      "name": "python3",
      "display_name": "Python 3"
    },
    "language_info": {
      "name": "python"
    }
  },
  "cells": [
    {
      "cell_type": "markdown",
      "metadata": {
        "id": "view-in-github",
        "colab_type": "text"
      },
      "source": [
        "<a href=\"https://colab.research.google.com/github/Ankita-Rane/Customer_Loan_Dataset/blob/main/Customer_loan_EDA_ipynb.ipynb\" target=\"_parent\"><img src=\"https://colab.research.google.com/assets/colab-badge.svg\" alt=\"Open In Colab\"/></a>"
      ]
    },
    {
      "cell_type": "code",
      "metadata": {
        "id": "9mGtM3GIphDo"
      },
      "source": [
        "import pandas as pd\n",
        "import matplotlib.pyplot as plt\n",
        "\n",
        "loan_df = pd.read_csv('/content/sample_data/cutomer_loan.csv',sep=',')\n",
        "loan_df = pd.DataFrame(loan_df)\n",
        "\n",
        "#Data Visualization\n",
        "#simple bar plot\n",
        "plt.bar(loan_df['gender'], loan_df['loan_type'])\n",
        "plt.xlabel('Gender')\n",
        "plt.ylabel('loan_type')\n",
        "plt.title(\"Simple bar Plot\")\n",
        "plt.legend()\n",
        "\n",
        "#simple hist plot\n",
        "plt.hist(loan_df['loan_type'])\n",
        "plt.xlabel('loan_type')\n",
        "plt.ylabel('count')\n",
        "plt.title(\"Simple hist Plot\")\n",
        "plt.legend()\n",
        "\n",
        "#simple line plot\n",
        "plt.plot(loan_df['loan_decision_type'],loan_df['age'])\n",
        "plt.xlabel('loan_decision_type')\n",
        "plt.ylabel('age')\n",
        "plt.title(\"Simple line Plot\")\n",
        "plt.legend()\n",
        "\n",
        "#simple scatter plot\n",
        "plt.scatter(loan_df['loan_decision_type'],loan_df['age'])\n",
        "plt.xlabel('loan_decision_type')\n",
        "plt.ylabel('age')\n",
        "plt.title(\"Simple scatter Plot\")\n",
        "plt.legend()\n",
        "\n",
        "#simple subplot\n",
        "figure, axis = plt.subplots(2, 2)\n",
        "axis[0,0].hist(loan_df['loan_type'],density=True, facecolor='g', alpha=0.75) \n",
        "axis[0,0].set_title(\"Loan type count\")\n",
        "\n",
        "axis[0,1].bar(loan_df['loan_type'],loan_df['loan_decision_type'],width=0.5,facecolor='y')\n",
        "axis[0,1].set_title(\"Loan type vs loan_decision_type\")\n",
        "\n",
        "axis[1,0].pie(loan_df['age'],labels=loan_df['loan_type'])\n",
        "axis[1,0].set_title(\"age vs loan_type\")\n",
        "\n",
        "axis[1,1].pie(loan_df['credit_score'],labels=loan_df['occupation'])\n",
        "axis[1,1].set_title(\"credit score vs occupation\")\n",
        "figure.show()\n",
        "\n",
        "#adjusting subplots\n",
        "plot1 = plt.subplot2grid((3, 3), (0, 0), colspan=2)\n",
        "plot2 = plt.subplot2grid((3, 3), (0, 2), rowspan=2)\n",
        "plot3 = plt.subplot2grid((3, 3), (1, 0), rowspan=3, colspan=2)\n",
        "\n",
        "plot1.hist(loan_df['loan_type'],density=True, facecolor='g', alpha=0.75) \n",
        "plot1.set_title(\"Loan type count\")\n",
        "\n",
        "plot2.bar(loan_df['loan_type'],loan_df['loan_decision_type'],width=0.5,facecolor='y')\n",
        "plot2.set_title(\"Loan type vs loan_decision_type\")\n",
        "\n",
        "plot3.pie(loan_df['age'],labels=loan_df['loan_type'])\n",
        "plot3.set_title(\"age vs loan_type\")\n",
        "\n"
      ],
      "execution_count": null,
      "outputs": []
    }
  ]
}